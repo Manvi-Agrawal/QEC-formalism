{
 "cells": [
  {
   "cell_type": "code",
   "execution_count": 9,
   "metadata": {},
   "outputs": [],
   "source": [
    "import pandas as pd"
   ]
  },
  {
   "cell_type": "code",
   "execution_count": 10,
   "metadata": {},
   "outputs": [],
   "source": [
    "def get_time_elapsed(sc):\n",
    "    sc[\"config\"] += sc[\"init\"]\n",
    "    sc[\"cons_gen\"] += sc[\"config\"]\n",
    "    sc[\"cons_sol\"] += sc[\"cons_gen\"]\n",
    "    # sc.show()\n",
    "    return sc"
   ]
  },
  {
   "cell_type": "markdown",
   "metadata": {},
   "source": [
    "## Buggy"
   ]
  },
  {
   "cell_type": "code",
   "execution_count": 11,
   "metadata": {},
   "outputs": [
    {
     "data": {
      "text/html": [
       "<div>\n",
       "<style scoped>\n",
       "    .dataframe tbody tr th:only-of-type {\n",
       "        vertical-align: middle;\n",
       "    }\n",
       "\n",
       "    .dataframe tbody tr th {\n",
       "        vertical-align: top;\n",
       "    }\n",
       "\n",
       "    .dataframe thead th {\n",
       "        text-align: right;\n",
       "    }\n",
       "</style>\n",
       "<table border=\"1\" class=\"dataframe\">\n",
       "  <thead>\n",
       "    <tr style=\"text-align: right;\">\n",
       "      <th></th>\n",
       "      <th>d</th>\n",
       "      <th>res</th>\n",
       "      <th>nq</th>\n",
       "      <th>all</th>\n",
       "      <th>init</th>\n",
       "      <th>config</th>\n",
       "      <th>cons_sol</th>\n",
       "      <th>cons_gen</th>\n",
       "    </tr>\n",
       "  </thead>\n",
       "  <tbody>\n",
       "    <tr>\n",
       "      <th>0</th>\n",
       "      <td>3</td>\n",
       "      <td>False</td>\n",
       "      <td>9</td>\n",
       "      <td>0.074854</td>\n",
       "      <td>0.000111</td>\n",
       "      <td>0.057568</td>\n",
       "      <td>0.004713</td>\n",
       "      <td>0.012462</td>\n",
       "    </tr>\n",
       "    <tr>\n",
       "      <th>1</th>\n",
       "      <td>5</td>\n",
       "      <td>False</td>\n",
       "      <td>25</td>\n",
       "      <td>0.128075</td>\n",
       "      <td>0.000072</td>\n",
       "      <td>0.096722</td>\n",
       "      <td>0.017357</td>\n",
       "      <td>0.013924</td>\n",
       "    </tr>\n",
       "    <tr>\n",
       "      <th>2</th>\n",
       "      <td>7</td>\n",
       "      <td>False</td>\n",
       "      <td>49</td>\n",
       "      <td>0.488556</td>\n",
       "      <td>0.000085</td>\n",
       "      <td>0.169546</td>\n",
       "      <td>0.294125</td>\n",
       "      <td>0.024800</td>\n",
       "    </tr>\n",
       "    <tr>\n",
       "      <th>3</th>\n",
       "      <td>9</td>\n",
       "      <td>False</td>\n",
       "      <td>81</td>\n",
       "      <td>0.544980</td>\n",
       "      <td>0.000118</td>\n",
       "      <td>0.246050</td>\n",
       "      <td>0.273687</td>\n",
       "      <td>0.025125</td>\n",
       "    </tr>\n",
       "    <tr>\n",
       "      <th>4</th>\n",
       "      <td>11</td>\n",
       "      <td>False</td>\n",
       "      <td>121</td>\n",
       "      <td>7.715704</td>\n",
       "      <td>0.000145</td>\n",
       "      <td>0.357457</td>\n",
       "      <td>7.318112</td>\n",
       "      <td>0.039990</td>\n",
       "    </tr>\n",
       "    <tr>\n",
       "      <th>5</th>\n",
       "      <td>13</td>\n",
       "      <td>False</td>\n",
       "      <td>169</td>\n",
       "      <td>1.972237</td>\n",
       "      <td>0.000503</td>\n",
       "      <td>0.531474</td>\n",
       "      <td>1.391366</td>\n",
       "      <td>0.048894</td>\n",
       "    </tr>\n",
       "    <tr>\n",
       "      <th>6</th>\n",
       "      <td>15</td>\n",
       "      <td>False</td>\n",
       "      <td>225</td>\n",
       "      <td>240.886895</td>\n",
       "      <td>0.001236</td>\n",
       "      <td>0.666809</td>\n",
       "      <td>240.151990</td>\n",
       "      <td>0.066860</td>\n",
       "    </tr>\n",
       "    <tr>\n",
       "      <th>7</th>\n",
       "      <td>17</td>\n",
       "      <td>False</td>\n",
       "      <td>289</td>\n",
       "      <td>10.338000</td>\n",
       "      <td>0.000657</td>\n",
       "      <td>0.877829</td>\n",
       "      <td>9.372738</td>\n",
       "      <td>0.086776</td>\n",
       "    </tr>\n",
       "    <tr>\n",
       "      <th>8</th>\n",
       "      <td>19</td>\n",
       "      <td>False</td>\n",
       "      <td>361</td>\n",
       "      <td>12.523973</td>\n",
       "      <td>0.000296</td>\n",
       "      <td>1.105775</td>\n",
       "      <td>11.288465</td>\n",
       "      <td>0.129437</td>\n",
       "    </tr>\n",
       "    <tr>\n",
       "      <th>9</th>\n",
       "      <td>21</td>\n",
       "      <td>False</td>\n",
       "      <td>441</td>\n",
       "      <td>48.920109</td>\n",
       "      <td>0.000361</td>\n",
       "      <td>1.381170</td>\n",
       "      <td>47.377708</td>\n",
       "      <td>0.160870</td>\n",
       "    </tr>\n",
       "  </tbody>\n",
       "</table>\n",
       "</div>"
      ],
      "text/plain": [
       "    d    res   nq         all      init    config    cons_sol  cons_gen\n",
       "0   3  False    9    0.074854  0.000111  0.057568    0.004713  0.012462\n",
       "1   5  False   25    0.128075  0.000072  0.096722    0.017357  0.013924\n",
       "2   7  False   49    0.488556  0.000085  0.169546    0.294125  0.024800\n",
       "3   9  False   81    0.544980  0.000118  0.246050    0.273687  0.025125\n",
       "4  11  False  121    7.715704  0.000145  0.357457    7.318112  0.039990\n",
       "5  13  False  169    1.972237  0.000503  0.531474    1.391366  0.048894\n",
       "6  15  False  225  240.886895  0.001236  0.666809  240.151990  0.066860\n",
       "7  17  False  289   10.338000  0.000657  0.877829    9.372738  0.086776\n",
       "8  19  False  361   12.523973  0.000296  1.105775   11.288465  0.129437\n",
       "9  21  False  441   48.920109  0.000361  1.381170   47.377708  0.160870"
      ]
     },
     "execution_count": 11,
     "metadata": {},
     "output_type": "execute_result"
    }
   ],
   "source": [
    "sc_buggy = pd.read_csv(\"surface_code_buggy.csv\")\n",
    "\n",
    "sc_buggy"
   ]
  },
  {
   "cell_type": "code",
   "execution_count": 12,
   "metadata": {},
   "outputs": [],
   "source": [
    "import numpy as np\n",
    "\n",
    "def get_stats(sc_buggy):\n",
    "    init_mean = np.mean(sc_buggy[\"init\"]/sc_buggy[\"all\"])\n",
    "    init_std = np.std(sc_buggy[\"init\"]/sc_buggy[\"all\"])\n",
    "\n",
    "    print(f\"Init mean: {format(init_mean*100, '.4f')}%\")\n",
    "    print(f\"Init std: {format(init_std*100, '0.4f')}%\")\n",
    "\n",
    "    config_mean = np.mean(sc_buggy[\"config\"]/sc_buggy[\"all\"])\n",
    "    config_std = np.std(sc_buggy[\"config\"]/sc_buggy[\"all\"])\n",
    "\n",
    "    print(f\"Config mean: {format(config_mean*100, '.4f')}%\")\n",
    "    print(f\"Config std: {format(config_std*100, '0.4f')}%\")\n",
    "\n",
    "    cons_gen_mean = np.mean(sc_buggy[\"cons_gen\"]/sc_buggy[\"all\"])\n",
    "    cons_gen_std = np.std(sc_buggy[\"cons_gen\"]/sc_buggy[\"all\"])\n",
    "\n",
    "    print(f\"cons_gen mean: {format(cons_gen_mean*100, '.4f')}%\")\n",
    "    print(f\"cons_gen std: {format(cons_gen_mean*100, '0.4f')}%\")\n",
    "\n",
    "    cons_sol_mean = np.mean(sc_buggy[\"cons_sol\"]/sc_buggy[\"all\"])\n",
    "    cons_sol_std = np.std(sc_buggy[\"cons_sol\"]/sc_buggy[\"all\"])\n",
    "\n",
    "    print(f\"cons_sol mean: {format(cons_sol_mean*100, '.4f')}%\")\n",
    "    print(f\"cons_sol std: {format(cons_sol_std*100, '0.4f')}%\")\n"
   ]
  },
  {
   "cell_type": "code",
   "execution_count": 13,
   "metadata": {},
   "outputs": [
    {
     "name": "stdout",
     "output_type": "stream",
     "text": [
      "Init mean: 0.0281%\n",
      "Init std: 0.0433%\n",
      "Config mean: 28.4280%\n",
      "Config std: 27.7216%\n",
      "cons_gen mean: 4.2434%\n",
      "cons_gen std: 4.2434%\n",
      "cons_sol mean: 67.3006%\n",
      "cons_sol std: 32.7284%\n"
     ]
    }
   ],
   "source": [
    "get_stats(sc_buggy)"
   ]
  },
  {
   "cell_type": "markdown",
   "metadata": {},
   "source": [
    "## Temp"
   ]
  },
  {
   "cell_type": "code",
   "execution_count": null,
   "metadata": {},
   "outputs": [],
   "source": [
    "import numpy as np\n",
    "\n",
    "init_mean = np.mean(sc_buggy[\"init\"]/sc_buggy[\"all\"])\n",
    "init_std = np.std(sc_buggy[\"init\"]/sc_buggy[\"all\"])\n",
    "\n",
    "print(f\"Init mean: {format(init_mean*100, '.4f')}%\")\n",
    "print(f\"Init std: {format(init_std*100, '0.4f')}%\")\n"
   ]
  },
  {
   "cell_type": "code",
   "execution_count": 16,
   "metadata": {},
   "outputs": [
    {
     "data": {
      "text/plain": [
       "0    0.769067\n",
       "1    0.755200\n",
       "2    0.347035\n",
       "3    0.451485\n",
       "4    0.046328\n",
       "5    0.269478\n",
       "6    0.002768\n",
       "7    0.084913\n",
       "8    0.088293\n",
       "9    0.028233\n",
       "dtype: float64"
      ]
     },
     "execution_count": 16,
     "metadata": {},
     "output_type": "execute_result"
    }
   ],
   "source": [
    "sc_buggy[\"config\"]/sc_buggy[\"all\"]"
   ]
  },
  {
   "cell_type": "code",
   "execution_count": null,
   "metadata": {},
   "outputs": [],
   "source": [
    "import numpy as np\n",
    "\n",
    "config_mean = np.mean(sc_buggy[\"config\"]/sc_buggy[\"all\"])\n",
    "config_std = np.std(sc_buggy[\"config\"]/sc_buggy[\"all\"])\n",
    "\n",
    "print(f\"Config mean: {format(config_mean*100, '.4f')}%\")\n",
    "print(f\"Config std: {format(config_std*100, '0.4f')}%\")\n"
   ]
  },
  {
   "cell_type": "code",
   "execution_count": null,
   "metadata": {},
   "outputs": [],
   "source": [
    "import numpy as np\n",
    "\n",
    "cons_gen_mean = np.mean(sc_buggy[\"cons_gen\"]/sc_buggy[\"all\"])\n",
    "cons_gen_std = np.std(sc_buggy[\"cons_gen\"]/sc_buggy[\"all\"])\n",
    "\n",
    "print(f\"cons_gen mean: {format(cons_gen_mean*100, '.4f')}%\")\n",
    "print(f\"cons_gen std: {format(cons_gen_mean*100, '0.4f')}%\")\n"
   ]
  },
  {
   "cell_type": "code",
   "execution_count": null,
   "metadata": {},
   "outputs": [],
   "source": [
    "cons_sol_mean = np.mean(sc_buggy[\"cons_sol\"]/sc_buggy[\"all\"])\n",
    "cons_sol_std = np.std(sc_buggy[\"cons_sol\"]/sc_buggy[\"all\"])\n",
    "\n",
    "print(f\"cons_sol mean: {format(cons_sol_mean*100, '.4f')}%\")\n",
    "print(f\"cons_sol std: {format(cons_sol_std*100, '0.4f')}%\")"
   ]
  },
  {
   "cell_type": "code",
   "execution_count": null,
   "metadata": {},
   "outputs": [],
   "source": [
    "sc_buggy_t = get_time_elapsed(sc_buggy)\n",
    "sc_buggy_t"
   ]
  },
  {
   "cell_type": "markdown",
   "metadata": {},
   "source": [
    "## Correct"
   ]
  },
  {
   "cell_type": "code",
   "execution_count": 14,
   "metadata": {},
   "outputs": [
    {
     "data": {
      "text/html": [
       "<div>\n",
       "<style scoped>\n",
       "    .dataframe tbody tr th:only-of-type {\n",
       "        vertical-align: middle;\n",
       "    }\n",
       "\n",
       "    .dataframe tbody tr th {\n",
       "        vertical-align: top;\n",
       "    }\n",
       "\n",
       "    .dataframe thead th {\n",
       "        text-align: right;\n",
       "    }\n",
       "</style>\n",
       "<table border=\"1\" class=\"dataframe\">\n",
       "  <thead>\n",
       "    <tr style=\"text-align: right;\">\n",
       "      <th></th>\n",
       "      <th>d</th>\n",
       "      <th>res</th>\n",
       "      <th>nq</th>\n",
       "      <th>all</th>\n",
       "      <th>init</th>\n",
       "      <th>config</th>\n",
       "      <th>cons_sol</th>\n",
       "      <th>cons_gen</th>\n",
       "    </tr>\n",
       "  </thead>\n",
       "  <tbody>\n",
       "    <tr>\n",
       "      <th>0</th>\n",
       "      <td>3</td>\n",
       "      <td>True</td>\n",
       "      <td>9</td>\n",
       "      <td>0.075799</td>\n",
       "      <td>0.000135</td>\n",
       "      <td>0.056747</td>\n",
       "      <td>0.003612</td>\n",
       "      <td>0.015305</td>\n",
       "    </tr>\n",
       "    <tr>\n",
       "      <th>1</th>\n",
       "      <td>5</td>\n",
       "      <td>True</td>\n",
       "      <td>25</td>\n",
       "      <td>0.164066</td>\n",
       "      <td>0.000085</td>\n",
       "      <td>0.099957</td>\n",
       "      <td>0.046572</td>\n",
       "      <td>0.017452</td>\n",
       "    </tr>\n",
       "    <tr>\n",
       "      <th>2</th>\n",
       "      <td>7</td>\n",
       "      <td>True</td>\n",
       "      <td>49</td>\n",
       "      <td>1.234342</td>\n",
       "      <td>0.000120</td>\n",
       "      <td>0.176916</td>\n",
       "      <td>1.038191</td>\n",
       "      <td>0.019115</td>\n",
       "    </tr>\n",
       "    <tr>\n",
       "      <th>3</th>\n",
       "      <td>9</td>\n",
       "      <td>True</td>\n",
       "      <td>81</td>\n",
       "      <td>58.259128</td>\n",
       "      <td>0.000125</td>\n",
       "      <td>0.283284</td>\n",
       "      <td>57.947043</td>\n",
       "      <td>0.028676</td>\n",
       "    </tr>\n",
       "    <tr>\n",
       "      <th>4</th>\n",
       "      <td>11</td>\n",
       "      <td>True</td>\n",
       "      <td>121</td>\n",
       "      <td>884.305707</td>\n",
       "      <td>0.000237</td>\n",
       "      <td>0.389107</td>\n",
       "      <td>883.873095</td>\n",
       "      <td>0.043268</td>\n",
       "    </tr>\n",
       "    <tr>\n",
       "      <th>5</th>\n",
       "      <td>13</td>\n",
       "      <td>True</td>\n",
       "      <td>169</td>\n",
       "      <td>1181.134556</td>\n",
       "      <td>0.000556</td>\n",
       "      <td>0.796898</td>\n",
       "      <td>1180.251380</td>\n",
       "      <td>0.085722</td>\n",
       "    </tr>\n",
       "  </tbody>\n",
       "</table>\n",
       "</div>"
      ],
      "text/plain": [
       "    d   res   nq          all      init    config     cons_sol  cons_gen\n",
       "0   3  True    9     0.075799  0.000135  0.056747     0.003612  0.015305\n",
       "1   5  True   25     0.164066  0.000085  0.099957     0.046572  0.017452\n",
       "2   7  True   49     1.234342  0.000120  0.176916     1.038191  0.019115\n",
       "3   9  True   81    58.259128  0.000125  0.283284    57.947043  0.028676\n",
       "4  11  True  121   884.305707  0.000237  0.389107   883.873095  0.043268\n",
       "5  13  True  169  1181.134556  0.000556  0.796898  1180.251380  0.085722"
      ]
     },
     "execution_count": 14,
     "metadata": {},
     "output_type": "execute_result"
    }
   ],
   "source": [
    "sc_correct = pd.read_csv(\"surface_code_correct.csv\")\n",
    "\n",
    "sc_correct"
   ]
  },
  {
   "cell_type": "code",
   "execution_count": 15,
   "metadata": {},
   "outputs": [
    {
     "name": "stdout",
     "output_type": "stream",
     "text": [
      "Init mean: 0.0400%\n",
      "Init std: 0.0644%\n",
      "Config mean: 25.1201%\n",
      "Config std: 30.9197%\n",
      "cons_gen mean: 5.4065%\n",
      "cons_gen std: 5.4065%\n",
      "cons_sol mean: 69.4335%\n",
      "cons_sol std: 38.3952%\n"
     ]
    }
   ],
   "source": [
    "get_stats(sc_correct)"
   ]
  },
  {
   "cell_type": "code",
   "execution_count": null,
   "metadata": {},
   "outputs": [],
   "source": [
    "sc_correct_t = get_time_elapsed(sc_correct)\n",
    "sc_correct_t\n"
   ]
  },
  {
   "cell_type": "code",
   "execution_count": null,
   "metadata": {},
   "outputs": [],
   "source": []
  }
 ],
 "metadata": {
  "kernelspec": {
   "display_name": "base",
   "language": "python",
   "name": "python3"
  },
  "language_info": {
   "codemirror_mode": {
    "name": "ipython",
    "version": 3
   },
   "file_extension": ".py",
   "mimetype": "text/x-python",
   "name": "python",
   "nbconvert_exporter": "python",
   "pygments_lexer": "ipython3",
   "version": "3.11.8"
  }
 },
 "nbformat": 4,
 "nbformat_minor": 2
}
